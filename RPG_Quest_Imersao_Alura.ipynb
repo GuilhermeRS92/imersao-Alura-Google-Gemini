{
  "cells": [
    {
      "cell_type": "markdown",
      "metadata": {
        "id": "view-in-github",
        "colab_type": "text"
      },
      "source": [
        "<a href=\"https://colab.research.google.com/github/GuilhermeRS92/imersao-Alura-Google-Gemini/blob/main/RPG_Quest_Imersao_Alura.ipynb\" target=\"_parent\"><img src=\"https://colab.research.google.com/assets/colab-badge.svg\" alt=\"Open In Colab\"/></a>"
      ]
    },
    {
      "cell_type": "code",
      "execution_count": 2,
      "metadata": {
        "id": "oPaMkyVpFVBd",
        "colab": {
          "base_uri": "https://localhost:8080/",
          "height": 1000
        },
        "outputId": "e148574e-9c89-449b-b1bd-a0f7dc5eb075"
      },
      "outputs": [
        {
          "output_type": "display_data",
          "data": {
            "text/plain": [
              "<IPython.core.display.Markdown object>"
            ],
            "text/markdown": "> **gui**: Olá, Mestre! Sou gui, um(a) humano e mago, estou pronto para iniciar uma aventura!"
          },
          "metadata": {}
        },
        {
          "output_type": "stream",
          "name": "stdout",
          "text": [
            "-------------------------------------------\n"
          ]
        },
        {
          "output_type": "display_data",
          "data": {
            "text/plain": [
              "<IPython.core.display.Markdown object>"
            ],
            "text/markdown": "> **Mestre**: A névoa se agarra à antiga floresta de Blackwood, suas garras espectrais se enroscando nos troncos retorcidos como dedos esqueléticos. O ar é denso com o cheiro de terra úmida e decadência. Gui, você está diante de um arco de pedra coberto por musgo, a entrada quase engolida pela mata. Runas antigas, quase apagadas pelo tempo, brilham fracamente na superfície da pedra. Uma trilha lamacenta se estende além do arco, desaparecendo na escuridão. O vento sussurra entre as árvores, carregando consigo um nome repetido como um lamento: \"Elara... Elara...\" <br> Você atravessa o arco em direção à floresta, guiado pelo chamado fantasmagórico?"
          },
          "metadata": {}
        },
        {
          "output_type": "stream",
          "name": "stdout",
          "text": [
            "-------------------------------------------\n"
          ]
        },
        {
          "output_type": "display_data",
          "data": {
            "text/plain": [
              "<IPython.core.display.Markdown object>"
            ],
            "text/markdown": "> **gui**: atravesso"
          },
          "metadata": {}
        },
        {
          "output_type": "stream",
          "name": "stdout",
          "text": [
            "-------------------------------------------\n"
          ]
        },
        {
          "output_type": "display_data",
          "data": {
            "text/plain": [
              "<IPython.core.display.Markdown object>"
            ],
            "text/markdown": "> **Mestre**: A névoa se fecha ao seu redor enquanto você atravessa o arco, gui, envolvendo-o em um abraço frio e úmido. A trilha de pedra se torna escorregadia sob seus pés, coberta por uma camada de folhas em decomposição. O sussurro do vento aumenta, o nome \"Elara\" ecoando através dos galhos finos e retorcidos das árvores. A floresta parece observá-lo, cada sombra um olhar penetrante. A trilha se divide em duas: uma segue para a esquerda, afundando em uma escuridão profunda onde a névoa paira como um véu; a outra segue para a direita, serpenteando por entre árvores antigas com raízes nodosas que se espalham como garras esqueléticas. <br> Qual caminho você escolhe, gui?"
          },
          "metadata": {}
        },
        {
          "output_type": "stream",
          "name": "stdout",
          "text": [
            "-------------------------------------------\n"
          ]
        },
        {
          "output_type": "display_data",
          "data": {
            "text/plain": [
              "<IPython.core.display.Markdown object>"
            ],
            "text/markdown": "> **gui**: esquerda"
          },
          "metadata": {}
        },
        {
          "output_type": "stream",
          "name": "stdout",
          "text": [
            "-------------------------------------------\n"
          ]
        },
        {
          "output_type": "display_data",
          "data": {
            "text/plain": [
              "<IPython.core.display.Markdown object>"
            ],
            "text/markdown": "> **Mestre**: A escuridão o envolve como um sudário enquanto você se aprofunda na trilha da esquerda, gui. A névoa se adensa, tornando difícil distinguir o caminho, e você se vê obrigado a tatear com as mãos pelos troncos das árvores para se guiar. O cheiro de terra úmida e folhas em decomposição se intensifica, e um odor metálico, quase imperceptível, se mistura ao ar. O nome \"Elara\" agora é um lamento constante, um grito distante que parece vir do coração da floresta.  De repente, a trilha termina abruptamente em uma clareira circular. A névoa gira lentamente no centro da clareira, revelando uma figura encapuzada ajoelhada no chão. A figura está imóvel, a cabeça baixa, como se em profunda oração ou meditação. Um cajado de madeira escura está fincado na terra ao lado dela, um brilho fraco emanando de sua ponta. <br> Você se aproxima da figura encapuzada ou a observa de longe, gui?"
          },
          "metadata": {}
        },
        {
          "name": "stdout",
          "output_type": "stream",
          "text": [
            "-------------------------------------------\n",
            "observo distante tentando entender o que ela está fazendo\n"
          ]
        },
        {
          "output_type": "error",
          "ename": "StopCandidateException",
          "evalue": "finish_reason: SAFETY\nindex: 0\nsafety_ratings {\n  category: HARM_CATEGORY_SEXUALLY_EXPLICIT\n  probability: MEDIUM\n}\nsafety_ratings {\n  category: HARM_CATEGORY_HATE_SPEECH\n  probability: NEGLIGIBLE\n}\nsafety_ratings {\n  category: HARM_CATEGORY_HARASSMENT\n  probability: NEGLIGIBLE\n}\nsafety_ratings {\n  category: HARM_CATEGORY_DANGEROUS_CONTENT\n  probability: NEGLIGIBLE\n}\n",
          "traceback": [
            "\u001b[0;31m---------------------------------------------------------------------------\u001b[0m",
            "\u001b[0;31mStopCandidateException\u001b[0m                    Traceback (most recent call last)",
            "\u001b[0;32m<ipython-input-2-7bd0cc642193>\u001b[0m in \u001b[0;36m<cell line: 125>\u001b[0;34m()\u001b[0m\n\u001b[1;32m    133\u001b[0m       \u001b[0macao\u001b[0m \u001b[0;34m=\u001b[0m \u001b[0minput\u001b[0m\u001b[0;34m(\u001b[0m\u001b[0;34m)\u001b[0m\u001b[0;34m\u001b[0m\u001b[0;34m\u001b[0m\u001b[0m\n\u001b[1;32m    134\u001b[0m     \u001b[0;32mif\u001b[0m \u001b[0macao\u001b[0m\u001b[0;34m:\u001b[0m\u001b[0;34m\u001b[0m\u001b[0;34m\u001b[0m\u001b[0m\n\u001b[0;32m--> 135\u001b[0;31m       \u001b[0mresponse\u001b[0m \u001b[0;34m=\u001b[0m \u001b[0mchat\u001b[0m\u001b[0;34m.\u001b[0m\u001b[0msend_message\u001b[0m\u001b[0;34m(\u001b[0m\u001b[0macao\u001b[0m\u001b[0;34m)\u001b[0m\u001b[0;34m\u001b[0m\u001b[0;34m\u001b[0m\u001b[0m\n\u001b[0m\u001b[1;32m    136\u001b[0m       \u001b[0mimprimir_historico\u001b[0m\u001b[0;34m(\u001b[0m\u001b[0mresponse\u001b[0m\u001b[0;34m)\u001b[0m\u001b[0;34m\u001b[0m\u001b[0;34m\u001b[0m\u001b[0m\n\u001b[1;32m    137\u001b[0m   \u001b[0;32mexcept\u001b[0m \u001b[0mjson\u001b[0m\u001b[0;34m.\u001b[0m\u001b[0mJSONDecodeError\u001b[0m\u001b[0;34m:\u001b[0m\u001b[0;34m\u001b[0m\u001b[0;34m\u001b[0m\u001b[0m\n",
            "\u001b[0;32m/usr/local/lib/python3.10/dist-packages/google/generativeai/generative_models.py\u001b[0m in \u001b[0;36msend_message\u001b[0;34m(self, content, generation_config, safety_settings, stream, tools, tool_config)\u001b[0m\n\u001b[1;32m    481\u001b[0m         )\n\u001b[1;32m    482\u001b[0m \u001b[0;34m\u001b[0m\u001b[0m\n\u001b[0;32m--> 483\u001b[0;31m         \u001b[0mself\u001b[0m\u001b[0;34m.\u001b[0m\u001b[0m_check_response\u001b[0m\u001b[0;34m(\u001b[0m\u001b[0mresponse\u001b[0m\u001b[0;34m=\u001b[0m\u001b[0mresponse\u001b[0m\u001b[0;34m,\u001b[0m \u001b[0mstream\u001b[0m\u001b[0;34m=\u001b[0m\u001b[0mstream\u001b[0m\u001b[0;34m)\u001b[0m\u001b[0;34m\u001b[0m\u001b[0;34m\u001b[0m\u001b[0m\n\u001b[0m\u001b[1;32m    484\u001b[0m \u001b[0;34m\u001b[0m\u001b[0m\n\u001b[1;32m    485\u001b[0m         \u001b[0;32mif\u001b[0m \u001b[0mself\u001b[0m\u001b[0;34m.\u001b[0m\u001b[0menable_automatic_function_calling\u001b[0m \u001b[0;32mand\u001b[0m \u001b[0mtools_lib\u001b[0m \u001b[0;32mis\u001b[0m \u001b[0;32mnot\u001b[0m \u001b[0;32mNone\u001b[0m\u001b[0;34m:\u001b[0m\u001b[0;34m\u001b[0m\u001b[0;34m\u001b[0m\u001b[0m\n",
            "\u001b[0;32m/usr/local/lib/python3.10/dist-packages/google/generativeai/generative_models.py\u001b[0m in \u001b[0;36m_check_response\u001b[0;34m(self, response, stream)\u001b[0m\n\u001b[1;32m    508\u001b[0m                 \u001b[0mglm\u001b[0m\u001b[0;34m.\u001b[0m\u001b[0mCandidate\u001b[0m\u001b[0;34m.\u001b[0m\u001b[0mFinishReason\u001b[0m\u001b[0;34m.\u001b[0m\u001b[0mMAX_TOKENS\u001b[0m\u001b[0;34m,\u001b[0m\u001b[0;34m\u001b[0m\u001b[0;34m\u001b[0m\u001b[0m\n\u001b[1;32m    509\u001b[0m             ):\n\u001b[0;32m--> 510\u001b[0;31m                 \u001b[0;32mraise\u001b[0m \u001b[0mgeneration_types\u001b[0m\u001b[0;34m.\u001b[0m\u001b[0mStopCandidateException\u001b[0m\u001b[0;34m(\u001b[0m\u001b[0mresponse\u001b[0m\u001b[0;34m.\u001b[0m\u001b[0mcandidates\u001b[0m\u001b[0;34m[\u001b[0m\u001b[0;36m0\u001b[0m\u001b[0;34m]\u001b[0m\u001b[0;34m)\u001b[0m\u001b[0;34m\u001b[0m\u001b[0;34m\u001b[0m\u001b[0m\n\u001b[0m\u001b[1;32m    511\u001b[0m \u001b[0;34m\u001b[0m\u001b[0m\n\u001b[1;32m    512\u001b[0m     \u001b[0;32mdef\u001b[0m \u001b[0m_get_function_calls\u001b[0m\u001b[0;34m(\u001b[0m\u001b[0mself\u001b[0m\u001b[0;34m,\u001b[0m \u001b[0mresponse\u001b[0m\u001b[0;34m)\u001b[0m \u001b[0;34m->\u001b[0m \u001b[0mlist\u001b[0m\u001b[0;34m[\u001b[0m\u001b[0mglm\u001b[0m\u001b[0;34m.\u001b[0m\u001b[0mFunctionCall\u001b[0m\u001b[0;34m]\u001b[0m\u001b[0;34m:\u001b[0m\u001b[0;34m\u001b[0m\u001b[0;34m\u001b[0m\u001b[0m\n",
            "\u001b[0;31mStopCandidateException\u001b[0m: finish_reason: SAFETY\nindex: 0\nsafety_ratings {\n  category: HARM_CATEGORY_SEXUALLY_EXPLICIT\n  probability: MEDIUM\n}\nsafety_ratings {\n  category: HARM_CATEGORY_HATE_SPEECH\n  probability: NEGLIGIBLE\n}\nsafety_ratings {\n  category: HARM_CATEGORY_HARASSMENT\n  probability: NEGLIGIBLE\n}\nsafety_ratings {\n  category: HARM_CATEGORY_DANGEROUS_CONTENT\n  probability: NEGLIGIBLE\n}\n"
          ]
        }
      ],
      "source": [
        "\"\"\"At the command line, only need to run once to install the package via pip:$ pip install google-generativeai\"\"\"\n",
        "import google.generativeai as genai\n",
        "from google.colab import userdata\n",
        "import json\n",
        "import random\n",
        "import textwrap\n",
        "from IPython.display import display, Markdown, clear_output\n",
        "from ipywidgets import Button, Output, Text\n",
        "\n",
        "# Configuração da API KEY\n",
        "API_KEY = userdata.get('SECRET_KEY_CLA')\n",
        "genai.configure(api_key=API_KEY)\n",
        "\n",
        "# Set up the model\n",
        "generation_config = {\n",
        "  \"temperature\": 1,\n",
        "  \"top_p\": 0.95,\n",
        "  \"top_k\": 0,\n",
        "  \"max_output_tokens\": 8192,\n",
        "}\n",
        "safety_settings = [\n",
        "  {\n",
        "    \"category\": \"HARM_CATEGORY_HARASSMENT\",\n",
        "    \"threshold\": \"BLOCK_MEDIUM_AND_ABOVE\"\n",
        "  },\n",
        "  {\n",
        "    \"category\": \"HARM_CATEGORY_HATE_SPEECH\",\n",
        "    \"threshold\": \"BLOCK_MEDIUM_AND_ABOVE\"\n",
        "  },\n",
        "  {\n",
        "    \"category\": \"HARM_CATEGORY_SEXUALLY_EXPLICIT\",\n",
        "    \"threshold\": \"BLOCK_MEDIUM_AND_ABOVE\"\n",
        "  },\n",
        "  {\n",
        "    \"category\": \"HARM_CATEGORY_DANGEROUS_CONTENT\",\n",
        "    \"threshold\": \"BLOCK_MEDIUM_AND_ABOVE\"\n",
        "  },\n",
        "]\n",
        "system_instruction = \"Você é um mestre de RPG com um estilo sombrio e mágico. \\\n",
        "Você irá conduzir uma aventura para um jogador. \\\n",
        "As informações sobre o personagem do jogador serão fornecidas no início da aventura. \\\n",
        "Você se comunicará com o jogador através de mensagens em formato conforme o exemplo abaixo com os seguintes campos:\\n\\\n",
        "  - 'tipo': 'HISTORIA', 'DESAFIO', 'COMBATE' ou 'INFORMACAO'\\n\\\n",
        "  - 'descricao': Descrição da cena, evento ou informação.\\n\\\n",
        "  - 'acao': Chamada para ação ou pergunta para o jogador.\\n\\\n",
        "  - 'desafio': (opcional) Nível de dificuldade do desafio (1 a 5), usado em 'DESAFIO' e 'COMBATE'.\\n\\\n",
        "  - 'vida': (opcional) Pontos de vida do inimigo, usado em 'COMBATE'.\\n\\\n",
        "Lembre-se de:\\n\\\n",
        "  - Manter o tom sombrio e mágico durante toda a aventura.\\n\\\n",
        "  - Usar o nome do personagem do jogador na narrativa.\\n\\\n",
        "  - Variar os tipos de interação para tornar a aventura dinâmica.\\n\\\n",
        "  - Ajustar a dificuldade dos desafios e combates de acordo com as ações do jogador.\\n\\\n",
        "  - Em 'INFORMACAO', iniciar a descrição com 'Mestre:'.\\n\\\n",
        "  - Formatar a resposta conforme o exemplo. \\n\\\n",
        "  - **Exemplo de resposta:** \\\"{ \\\\\\\"tipo\\\\\\\": \\\\\\\"HISTORIA\\\\\\\", \\\\\\\"descricao\\\\\\\": \\\\\\\"A floresta se fecha ao seu redor...\\\\\\\", \\\\\\\"acao\\\\\\\": \\\\\\\"Você continua pela trilha principal ou procura um caminho alternativo?\\\\\\\" }\\\"\\n\\\n",
        "  - Utilize \\\\\\\" para escapar aspas dentro da string. \\n\\\n",
        "  - Retorne apenas seguindo formato conforme o exemplo de resposta \\n\\\n",
        "  - IMPORTANTE: NUNCA retorne a mensagem em formato JSON, apenas em string conforme o exemplo.\"\n",
        "\n",
        "model = genai.GenerativeModel(model_name=\"gemini-1.5-pro-latest\",\n",
        "                          generation_config=generation_config,\n",
        "                          system_instruction=system_instruction,\n",
        "                          safety_settings=safety_settings)\n",
        "\n",
        "# Função converter texto para markdown\n",
        "def to_markdown(text):\n",
        "  text = text.replace('•', '   *')\n",
        "  return Markdown(textwrap.indent(text, '> ', predicate=lambda _: True))\n",
        "\n",
        "botao_usado = False  # Variável para controlar o uso do botão\n",
        "\n",
        "# Função para simular o giro do dado\n",
        "def girar_dado(button):\n",
        "    global botao_usado  # Torna as variáveis globais\n",
        "    botao_usado = False\n",
        "    with output:\n",
        "        valorDado = random.choice(dado)\n",
        "        resultadoDado = f'O resultado do meu desafio foi: {valorDado}'\n",
        "        if not acao:\n",
        "            display(to_markdown(\"Por favor, digite uma ação para enviar.\"))\n",
        "            return\n",
        "\n",
        "        botao_usado = True  # Marca o botão como usado\n",
        "\n",
        "        response = chat.send_message(f'{resultadoDado}')\n",
        "        imprimir_historico(response)\n",
        "\n",
        "# Função para imprimir o histórico do chat\n",
        "def imprimir_historico(response=None):\n",
        "  clear_output(wait=True)\n",
        "  for message in chat.history:\n",
        "    if message.role == 'model':\n",
        "      role = 'Mestre'\n",
        "      try:\n",
        "          messageJson = json.loads(message.parts[0].text)\n",
        "          description = messageJson['descricao']\n",
        "          acao = messageJson['acao']\n",
        "          display(to_markdown(f'**{role}**: {description} <br> {acao}'))\n",
        "      except (json.JSONDecodeError, KeyError) as e:\n",
        "          # Lida com mensagens que não estão no formato JSON esperado\n",
        "          display(to_markdown(f'**{role}**: {message.parts[0].text}'))\n",
        "    else:\n",
        "        role = nome_personagem\n",
        "        description = message.parts[0].text\n",
        "        display(to_markdown(f'**{role}**: {description}'))\n",
        "    print('-------------------------------------------')\n",
        "\n",
        "# Criação do botão, campo de texto e output\n",
        "botao_dado = Button(description=\"Girar o Dado\")\n",
        "botao_dado.on_click(girar_dado)\n",
        "output = Output()\n",
        "\n",
        "display(to_markdown(\"Qual o nome do seu personagem? \"))\n",
        "nome_personagem = input()\n",
        "display(to_markdown(\"Qual é a raça do seu personagem? (Humano, Anão, Elfo, Minotauro, Gnomo, Goblin ou outra...) \"))\n",
        "raca_personagem = input()\n",
        "display(to_markdown(\"Qual a classe do seu personagem? (Guerreiro, Bárbaro, Mago, Druida, Bardo, Ranger, Clérigo ou outras...) \"))\n",
        "classe_personagem = input()\n",
        "inicio_aventura = f'Olá, Mestre! Sou {nome_personagem}, um(a) {raca_personagem} e {classe_personagem}, estou pronto para iniciar uma aventura!'\n",
        "dado = ['1', '2', '3', '4', '5', '6']\n",
        "chat = model.start_chat(history=[])\n",
        "response = chat.send_message(inicio_aventura)\n",
        "imprimir_historico(response)\n",
        "\n",
        "while True:\n",
        "  try:\n",
        "    response_json = json.loads(response.text)  # Atualiza response_json a cada iteração\n",
        "    if response_json['tipo'] in ['DESAFIO', 'COMBATE']:\n",
        "        if not botao_usado:  # Verifica se o botão ainda não foi usado\n",
        "            display(botao_dado, output)\n",
        "        botao_usado = False  # Reseta o estado do botão após cada uso\n",
        "    else:\n",
        "      acao = input()\n",
        "    if acao:\n",
        "      response = chat.send_message(acao)\n",
        "      imprimir_historico(response)\n",
        "  except json.JSONDecodeError:\n",
        "    display(to_markdown(\"Ocorreu um erro. Por favor, tente novamente.\"))\n",
        "    response = chat.send_message(\"Fim\")\n",
        "    imprimir_historico(response)"
      ]
    }
  ],
  "metadata": {
    "colab": {
      "provenance": [],
      "authorship_tag": "ABX9TyNkxzOjUkCPoaqF/j+8Kmyc",
      "include_colab_link": true
    },
    "kernelspec": {
      "display_name": "Python 3",
      "name": "python3"
    },
    "language_info": {
      "name": "python"
    }
  },
  "nbformat": 4,
  "nbformat_minor": 0
}